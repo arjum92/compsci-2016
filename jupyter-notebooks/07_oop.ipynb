{
 "cells": [
  {
   "cell_type": "markdown",
   "metadata": {},
   "source": [
    "# Introduction to object-oriented programming (OOP)"
   ]
  },
  {
   "cell_type": "code",
   "execution_count": 1,
   "metadata": {
    "collapsed": true
   },
   "outputs": [],
   "source": [
    "%matplotlib inline\n",
    "import matplotlib as mpl\n",
    "import matplotlib.pyplot as plt\n",
    "import numpy as np"
   ]
  },
  {
   "cell_type": "markdown",
   "metadata": {},
   "source": [
    "## Example of non-OOP code: Lennard-Jones particles in a box"
   ]
  },
  {
   "cell_type": "code",
   "execution_count": 2,
   "metadata": {
    "collapsed": false
   },
   "outputs": [
    {
     "data": {
      "image/png": "[encoded data removed]",
      "text/plain": [
       "<matplotlib.figure.Figure at 0x109f81f90>"
      ]
     },
     "metadata": {},
     "output_type": "display_data"
    }
   ],
   "source": [
    "def lj_potential(r, sigma=1.0, epsilon=1.0):\n",
    "    r\"\"\"\n",
    "    Compute the Lennard-Jones potential.\n",
    "    \n",
    "    Parameters\n",
    "    ----------\n",
    "    r : float or array-like of float\n",
    "        Euklidean particle-particle distance(s).\n",
    "    sigma : float, optional, default=1.0\n",
    "        Zero crossing distance.\n",
    "    epsilon : float, optional, default=1.0\n",
    "        Depth of the potential well.\n",
    "    \n",
    "    Returns\n",
    "    -------\n",
    "    float or array-like of float\n",
    "        Lennard-Jones energy value(s).\n",
    "    \n",
    "    \"\"\"\n",
    "    q = (sigma / r)**6\n",
    "    return 4.0 * (epsilon * (q * (q - 1.0)))\n",
    "\n",
    "def interaction_potential(xyz, sigma=1.0, epsilon=1.0):\n",
    "    r\"\"\"\n",
    "    Compute the interaction potential for a set of particles.\n",
    "    \n",
    "    Parameters\n",
    "    ----------\n",
    "    xyz : numpy.ndarray(shape=(n, d))\n",
    "        d-dimensional coordinates of n particles.\n",
    "    sigma : float, optional, default=1.0\n",
    "        Zero crossing distance for the Lennard-Jones contribution.\n",
    "    epsilon : float, optional, default=1.0\n",
    "        Depth of the potential well for the Lennard-Jones contribution.\n",
    "    \n",
    "    Returns\n",
    "    -------\n",
    "    float\n",
    "        Total interaction potential.\n",
    "    \n",
    "    \"\"\"\n",
    "    lj_interaction = 0.0\n",
    "    for i in range(1, xyz.shape[0]):\n",
    "        lj_interaction_tmp = 0.0\n",
    "        for j in range(i):\n",
    "            r = np.linalg.norm(xyz[j, :] - xyz[i, :])\n",
    "            lj_interaction_tmp += lj_potential(r, sigma=sigma, epsilon=epsilon)\n",
    "        lj_interaction += lj_interaction_tmp\n",
    "    return lj_interaction\n",
    "\n",
    "def external_potential(xyz, box_length=None):\n",
    "    r\"\"\"\n",
    "    Compute the external potential for a set of particles.\n",
    "    \n",
    "    Parameters\n",
    "    ----------\n",
    "    xyz : numpy.ndarray(shape=(n, d))\n",
    "        d-dimensional coordinates of n particles.\n",
    "    box_length : float, optional, default=None\n",
    "        If not None, the area outside [0, box_length]^d\n",
    "        is forbidden for each particle.\n",
    "    \n",
    "    Returns\n",
    "    -------\n",
    "    float\n",
    "        Total external potential.\n",
    "    \n",
    "    \"\"\"\n",
    "    if box_length is None:\n",
    "        return 0.0\n",
    "    if np.all(xyz >= 0.0) and np.all(xyz <= box_length):\n",
    "        return 0.0\n",
    "    return np.inf\n",
    "\n",
    "def phi(xyz, sigma=1.0, epsilon=1.0, box_length=None):\n",
    "    r\"\"\"\n",
    "    Compute the interaction and external potential for a set of particles.\n",
    "    \n",
    "    Parameters\n",
    "    ----------\n",
    "    xyz : numpy.ndarray(shape=(n, d))\n",
    "        d-dimensional coordinates of n particles.\n",
    "    sigma : float, optional, default=1.0\n",
    "        Zero crossing distance for the Lennard-Jones contribution.\n",
    "    epsilon : float, optional, default=1.0\n",
    "        Depth of the potential well for the Lennard-Jones contribution.\n",
    "    box_length : float, optional, default=None\n",
    "        If not None, the area outside [0, box_length]^d\n",
    "        is forbidden for each particle.\n",
    "    \n",
    "    Returns\n",
    "    -------\n",
    "    float\n",
    "        Total interaction and external potential.\n",
    "    \n",
    "    \"\"\"\n",
    "    return interaction_potential(xyz, sigma=sigma, epsilon=epsilon) + external_potential(xyz, box_length=box_length)\n",
    "\n",
    "def metropolis_update(xyz, pot, sigma=1.0, epsilon=1.0, box_length=None, step=0.1, beta=1.0):\n",
    "    r\"\"\"\n",
    "    Perform a Metropolis update step.\n",
    "    \n",
    "    Parameters\n",
    "    ----------\n",
    "    xyz : numpy.ndarray(shape=(n, d))\n",
    "        d-dimensional coordinates of n particles.\n",
    "    pot : float\n",
    "        Potential value of xyz.\n",
    "    sigma : float, optional, default=1.0\n",
    "        Zero crossing distance for the Lennard-Jones contribution.\n",
    "    epsilon : float, optional, default=1.0\n",
    "        Depth of the potential well for the Lennard-Jones contribution.\n",
    "    box_length : float, optional, default=None\n",
    "        If not None, the area outside [0, box_length]^d\n",
    "        is forbidden for each particle.\n",
    "    step : float, optional, default=0.1\n",
    "        Maximal size of an update move in each coordinate.\n",
    "    beta : float, optional, default=1.0\n",
    "        Inverse temperature factor (1/kT).\n",
    "    \n",
    "    Returns\n",
    "    -------\n",
    "    float\n",
    "        Total interaction and external potential.\n",
    "    \n",
    "    \"\"\"\n",
    "    xyz_trial = xyz + 2.0 * step * (np.random.rand(*xyz.shape) - 0.5)\n",
    "    pot_trial = phi(xyz_trial, sigma=sigma, epsilon=epsilon, box_length=box_length)\n",
    "    if pot_trial <= pot or np.random.rand() < np.exp(beta * (pot - pot_trial)):\n",
    "        return xyz_trial, pot_trial\n",
    "    return xyz, pot\n",
    "\n",
    "def metropolis(xyz_init, size, sigma=1.0, epsilon=1.0, box_length=None, step=0.1, beta=1.0):\n",
    "    r\"\"\"\n",
    "    Perform a Metropolis MC sampling procedure.\n",
    "    \n",
    "    Parameters\n",
    "    ----------\n",
    "    xyz_init : numpy.ndarray(shape=(n, d)) or similar\n",
    "        Initial d-dimensional coordinates of n particles.\n",
    "    size : int\n",
    "        Number of Metropolis update steps.\n",
    "    sigma : float, optional, default=1.0\n",
    "        Zero crossing distance for the Lennard-Jones contribution.\n",
    "    epsilon : float, optional, default=1.0\n",
    "        Depth of the potential well for the Lennard-Jones contribution.\n",
    "    box_length : float, optional, default=None\n",
    "        If not None, the area outside [0, box_length]^d\n",
    "        is forbidden for each particle.\n",
    "    step : float, optional, default=0.1\n",
    "        Maximal size of an update move in each coordinate.\n",
    "    beta : float, optional, default=1.0\n",
    "        Inverse temperature factor (1/kT).\n",
    "    \n",
    "    Returns\n",
    "    -------\n",
    "    float\n",
    "        Total interaction and external potential.\n",
    "    \n",
    "    \"\"\"\n",
    "    xyz_traj = [np.asarray(xyz_init, dtype=np.float64)]\n",
    "    pot_traj = [phi(xyz_traj[-1], sigma=sigma, epsilon=epsilon, box_length=box_length)]\n",
    "    for i in range(size):\n",
    "        xyz, pot = metropolis_update(\n",
    "            xyz_traj[-1], pot_traj[-1],\n",
    "            sigma=sigma, epsilon=epsilon, box_length=box_length,\n",
    "            step=step, beta=beta)\n",
    "        xyz_traj.append(xyz)\n",
    "        pot_traj.append(pot)\n",
    "    return np.asarray(xyz_traj, dtype=np.float64), np.asarray(pot_traj, dtype=np.float64)\n",
    "\n",
    "def metropolis_sa(xyz_init, size, sigma=1.0, epsilon=1.0, box_length=None, step=0.1, beta=1.0):\n",
    "    r\"\"\"\n",
    "    Perform a Metropolis-based simulated annealing procedure.\n",
    "    \n",
    "    Parameters\n",
    "    ----------\n",
    "    xyz_init : numpy.ndarray(shape=(n, d)) or similar\n",
    "        Initial d-dimensional coordinates of n particles.\n",
    "    size : int\n",
    "        Number of Metropolis update steps.\n",
    "    sigma : float, optional, default=1.0\n",
    "        Zero crossing distance for the Lennard-Jones contribution.\n",
    "    epsilon : float, optional, default=1.0\n",
    "        Depth of the potential well for the Lennard-Jones contribution.\n",
    "    box_length : float, optional, default=None\n",
    "        If not None, the area outside [0, box_length]^d\n",
    "        is forbidden for each particle.\n",
    "    step : float, optional, default=0.1\n",
    "        Maximal size of an update move in each coordinate.\n",
    "    beta : float, optional, default=1.0\n",
    "        Initial inverse temperature factor (1/kT).\n",
    "    \n",
    "    Returns\n",
    "    -------\n",
    "    float\n",
    "        Total interaction and external potential.\n",
    "    \n",
    "    \"\"\"\n",
    "    beta_values = 1.0 / np.linspace(1.0E-15, 1.0 / beta, size)[::-1]\n",
    "    xyz_traj = [np.asarray(xyz_init, dtype=np.float64)]\n",
    "    pot_traj = [phi(xyz_traj[-1], sigma=sigma, epsilon=epsilon, box_length=box_length)]\n",
    "    for i in range(size):\n",
    "        xyz, pot = metropolis_update(\n",
    "            xyz_traj[-1], pot_traj[-1],\n",
    "            sigma=sigma, epsilon=epsilon, box_length=box_length,\n",
    "            step=step, beta=beta_values[i])\n",
    "        xyz_traj.append(xyz)\n",
    "        pot_traj.append(pot)\n",
    "    return np.asarray(xyz_traj, dtype=np.float64), np.asarray(pot_traj, dtype=np.float64)\n",
    "\n",
    "# APPLY THE CODE\n",
    "\n",
    "xyz, pot = metropolis(np.random.rand(3, 3) * 2.0, 101000, box_length=2.0, beta=10.0)\n",
    "\n",
    "fig, axes = plt.subplots(1, 2, figsize=(10, 4))\n",
    "for i in range(1, xyz.shape[1]):\n",
    "    for j in range(i):\n",
    "        hist, edges = np.histogram(np.linalg.norm(xyz[1000:, j, :] - xyz[1000:, i, :], axis=-1), bins=50)\n",
    "        rho = hist.astype(np.float64) / np.sum(hist)\n",
    "        axes[0].plot(edges[1:], rho)\n",
    "axes[0].set_xlabel(r\"$r$\", fontsize=15)\n",
    "axes[0].set_ylabel(r\"$\\rho(r)$\", fontsize=15)\n",
    "axes[0].semilogy()\n",
    "hist, edges = np.histogram(pot[1000:], bins=50)\n",
    "rho = hist.astype(np.float64) / np.sum(hist)\n",
    "axes[1].plot(edges[1:], rho)\n",
    "axes[1].set_xlabel(r\"$E$\", fontsize=15)\n",
    "axes[1].set_ylabel(r\"$\\rho(E)$\", fontsize=15)\n",
    "fig.tight_layout()"
   ]
  },
  {
   "cell_type": "markdown",
   "metadata": {},
   "source": [
    "**Goal of OOP**: encapsulate/bundle system parameters and functions in logical units.\n",
    "\n",
    "## Some examples of Python classes"
   ]
  },
  {
   "cell_type": "code",
   "execution_count": 3,
   "metadata": {
    "collapsed": false
   },
   "outputs": [
    {
     "name": "stdout",
     "output_type": "stream",
     "text": [
      "My parameter is 'test'\n",
      "My parameter is 'test'\n",
      "Hello, world!\n"
     ]
    }
   ],
   "source": [
    "class MyClass(object):\n",
    "    \"\"\"Class docstring\"\"\"\n",
    "\n",
    "    def __init__(self, parameter):\n",
    "        \"\"\"constructor\"\"\"\n",
    "        self.parameter = parameter\n",
    "\n",
    "    def __repr__(self):\n",
    "        return \"My parameter is '%s'\" % self.parameter\n",
    "\n",
    "    def print_me(self, argument=None):\n",
    "        if argument is None:\n",
    "            print(self)\n",
    "        else:\n",
    "            print(argument)\n",
    "\n",
    "obj = MyClass(\"test\")\n",
    "print(obj)\n",
    "obj.print_me()\n",
    "obj.print_me(argument=\"Hello, world!\")"
   ]
  },
  {
   "cell_type": "code",
   "execution_count": 4,
   "metadata": {
    "collapsed": false
   },
   "outputs": [
    {
     "name": "stdout",
     "output_type": "stream",
     "text": [
      "1\n",
      "2\n",
      "3\n",
      "4\n",
      "5\n"
     ]
    }
   ],
   "source": [
    "class MyCounter(object):\n",
    "    def __init__(self):\n",
    "        self.counter = 0\n",
    "    def increment(self):\n",
    "        self.counter += 1\n",
    "        return self.counter\n",
    "\n",
    "counter = MyCounter().increment\n",
    "\n",
    "for i in range(5):\n",
    "    print(counter())"
   ]
  },
  {
   "cell_type": "markdown",
   "metadata": {},
   "source": [
    "## Make a class for the Lennard-Jones potential\n",
    "\n",
    "**Goal**: encapsulate $\\sigma$ and $\\epsilon$, and provide simple checks."
   ]
  },
  {
   "cell_type": "code",
   "execution_count": 5,
   "metadata": {
    "collapsed": false
   },
   "outputs": [
    {
     "name": "stdout",
     "output_type": "stream",
     "text": [
      "(1.0, 1.0)\n"
     ]
    },
    {
     "data": {
      "text/plain": [
       "[<matplotlib.lines.Line2D at 0x10df6e150>]"
      ]
     },
     "execution_count": 5,
     "metadata": {},
     "output_type": "execute_result"
    },
    {
     "data": {
      "image/png": "[encoded data removed]",
      "text/plain": [
       "<matplotlib.figure.Figure at 0x10df1a050>"
      ]
     },
     "metadata": {},
     "output_type": "display_data"
    }
   ],
   "source": [
    "class LennardJonesPotential(object):\n",
    "    r\"\"\"\n",
    "    A class to encapsule the LJ potential function and it's parameters.\n",
    "\n",
    "    Parameters\n",
    "    ----------\n",
    "    sigma : float, optional, default=1.0\n",
    "        Zero crossing distance, must be positive.\n",
    "    epsilon : float, optional, default=1.0\n",
    "        Depth of the potential well for the Lennard-Jones contribution,\n",
    "        must be non-negative.\n",
    "\n",
    "    \"\"\"\n",
    "\n",
    "    def __init__(self, sigma=1.0, epsilon=1.0):\n",
    "        self.sigma = sigma\n",
    "        self.epsilon = epsilon\n",
    "\n",
    "    @property\n",
    "    def sigma(self):\n",
    "        return self._sigma\n",
    "    @sigma.setter\n",
    "    def sigma(self, value):\n",
    "        if not isinstance(value, (float, int)) or value <= 0.0:\n",
    "            raise ValueError(\"sigma must be a positive number\")\n",
    "        self._sigma = float(value)\n",
    "\n",
    "    @property\n",
    "    def epsilon(self):\n",
    "        return self._epsilon\n",
    "    @epsilon.setter\n",
    "    def epsilon(self, value):\n",
    "        if not isinstance(value, (float, int)) or value < 0.0:\n",
    "            raise ValueError(\"epsilon must be a non.negative number\")\n",
    "        self._epsilon = float(value)\n",
    "\n",
    "    def potential(self, r):\n",
    "        r\"\"\"\n",
    "        Compute the Lennard-Jones potential.\n",
    "\n",
    "        Parameters\n",
    "        ----------\n",
    "        r : float or array-like of float\n",
    "            Euklidean particle-particle distance(s).\n",
    "\n",
    "        Returns\n",
    "        -------\n",
    "        float or array-like of float\n",
    "            Lennard-Jones energy value(s).\n",
    "\n",
    "        \"\"\"\n",
    "        q = (self.sigma / r)**6\n",
    "        return 4.0 * (self.epsilon * (q * (q - 1.0)))\n",
    "\n",
    "lj = LennardJonesPotential()\n",
    "print(lj.epsilon, lj.sigma)\n",
    "\n",
    "x = np.linspace(0.95, 2.0, 100)\n",
    "plt.plot(x, lj.potential(x))"
   ]
  },
  {
   "cell_type": "markdown",
   "metadata": {},
   "source": [
    "## Derive a class for the system in a box\n",
    "\n",
    "**Goal**: encapsulate the box and LJ parameters and provide a potential method and further checks."
   ]
  },
  {
   "cell_type": "code",
   "execution_count": 6,
   "metadata": {
    "collapsed": false
   },
   "outputs": [
    {
     "name": "stdout",
     "output_type": "stream",
     "text": [
      "-0.0653027431851\n",
      "inf\n"
     ]
    }
   ],
   "source": [
    "class LennardJonesBox(LennardJonesPotential):\n",
    "    r\"\"\"\n",
    "    A class to encapsule a system of LJ particles,\n",
    "    free or in a box with infinte walls.\n",
    "\n",
    "    Parameters\n",
    "    ----------\n",
    "    xyz : numpy.ndarray(shape=(n, d)) or similar\n",
    "        Initial d-dimensional coordinates of n particles.\n",
    "    box : float, optional, default=None\n",
    "        If not None, the area outside [0, box_length]^d\n",
    "        is forbidden for each particle.\n",
    "    sigma : float, optional, default=1.0\n",
    "        Zero crossing distance, must be positive.\n",
    "    epsilon : float, optional, default=1.0\n",
    "        Depth of the potential well for the Lennard-Jones\n",
    "        contribution, must be non-negative.\n",
    "\n",
    "    \"\"\"\n",
    "    \n",
    "    def __init__(self, xyz, box=None, beta=1.0, sigma=1.0, epsilon=1.0):\n",
    "        super(LennardJonesBox, self).__init__(sigma=sigma, epsilon=epsilon)\n",
    "        self.xyz = xyz\n",
    "        self.box = box\n",
    "        if self._external_potential() == np.inf:\n",
    "            raise ValueError(\"xyz does not fit in box!\")\n",
    "\n",
    "    @property\n",
    "    def xyz(self):\n",
    "        return self._xyz\n",
    "    @xyz.setter\n",
    "    def xyz(self, value):\n",
    "        xyz = np.asarray(value)\n",
    "        if xyz.ndim != 2 or xyz.shape[0] < 2 or xyz.shape[1] not in (1, 2, 3):\n",
    "            raise ValueError(\"xyz must be of shape=(np, dim) with np > 1 and dim = 1, 2, 3\")\n",
    "        self._xyz = xyz\n",
    "\n",
    "    @property\n",
    "    def box(self):\n",
    "        return self._box\n",
    "    @box.setter\n",
    "    def box(self, value):\n",
    "        if value is None:\n",
    "            self._box = None\n",
    "        elif not isinstance(value, (float, int)) or value <= 0.0:\n",
    "            raise ValueError(\"box must be a positive number or None\")\n",
    "        self._box = float(value)\n",
    "\n",
    "    def _interaction_potential(self, xyz=None):\n",
    "        if xyz is None:\n",
    "            xyz = self.xyz\n",
    "        lj_interaction = 0.0\n",
    "        for i in range(1, xyz.shape[0]):\n",
    "            lj_interaction_tmp = 0.0\n",
    "            for j in range(i):\n",
    "                r = np.linalg.norm(xyz[j, :] - xyz[i, :])\n",
    "                lj_interaction_tmp += super(LennardJonesBox, self).potential(r)\n",
    "            lj_interaction += lj_interaction_tmp\n",
    "        return lj_interaction\n",
    "\n",
    "    def _external_potential(self, xyz=None):\n",
    "        if xyz is None:\n",
    "            xyz = self.xyz\n",
    "        if self.box is None:\n",
    "            return 0.0\n",
    "        if np.all(xyz >= 0.0) and np.all(xyz <= self.box):\n",
    "            return 0.0\n",
    "        return np.inf\n",
    "\n",
    "    def potential(self, xyz=None):\n",
    "        r\"\"\"\n",
    "        Compute the interaction and external potential\n",
    "        for the current set of particles.\n",
    "\n",
    "        Parameters\n",
    "        ----------\n",
    "        xyz : numpy.ndarray(shape=(n, d)) or similar, optional, default=None\n",
    "            d-dimensional coordinates of n particles;\n",
    "            if None, self.xyz is used.\n",
    "\n",
    "        Returns\n",
    "        -------\n",
    "        float\n",
    "            Total interaction and external potential.\n",
    "\n",
    "        \"\"\"\n",
    "        if xyz is None:\n",
    "            xyz = self.xyz\n",
    "        else:\n",
    "            xyz = np.asarray(xyz)\n",
    "        return self._interaction_potential(xyz=xyz) + self._external_potential(xyz=xyz)\n",
    "\n",
    "ljb = LennardJonesBox([[0.1, 0.1], [1.5, 1.5]], box=2.0)\n",
    "print(ljb.potential())\n",
    "print(ljb.potential([[0.1, 0.1], [2.5, 2.5]]))"
   ]
  },
  {
   "cell_type": "markdown",
   "metadata": {},
   "source": [
    "## Make a class to handle Metropolis and simulated annealing"
   ]
  },
  {
   "cell_type": "code",
   "execution_count": 7,
   "metadata": {
    "collapsed": false
   },
   "outputs": [
    {
     "data": {
      "image/png": "[encoded data removed]",
      "text/plain": [
       "<matplotlib.figure.Figure at 0x10dfc5390>"
      ]
     },
     "metadata": {},
     "output_type": "display_data"
    }
   ],
   "source": [
    "class Sampler(object):\n",
    "    r\"\"\"A sampler class for hamiltonian objects.\"\"\"\n",
    "\n",
    "    def _update(self, hamiltonian, xyz, pot, step, beta):\n",
    "        xyz_trial = xyz + 2.0 * step * (np.random.rand(*xyz.shape) - 0.5)\n",
    "        pot_trial = hamiltonian.potential(xyz=xyz_trial)\n",
    "        if pot_trial <= pot or np.random.rand() < np.exp(beta * (pot - pot_trial)):\n",
    "            return xyz_trial, pot_trial\n",
    "        return xyz, pot\n",
    "\n",
    "    def metropolis(self, hamiltonian, size, step=0.1, beta=1.0):\n",
    "        r\"\"\"\n",
    "        Perform a Metropolis MC sampling procedure.\n",
    "\n",
    "        Parameters\n",
    "        ----------\n",
    "        hamiltonian : object\n",
    "            Encapsulates the system's degrees of freedom\n",
    "            and interactions.\n",
    "        size : int\n",
    "            Number of Metropolis update steps.\n",
    "        step : float, optional, default=0.1\n",
    "            Maximal size of an update move in each coordinate.\n",
    "        beta : float, optional, default=1.0\n",
    "            Inverse temperature factor (1/kT).\n",
    "\n",
    "        Returns\n",
    "        -------\n",
    "        numpy.ndarray of float\n",
    "            Configuration trajectory.\n",
    "        numpy.ndarray of float\n",
    "            Total interaction and external potential trajectory.\n",
    "\n",
    "        \"\"\"\n",
    "        xyz_traj = [np.asarray(hamiltonian.xyz, dtype=np.float64)]\n",
    "        pot_traj = [hamiltonian.potential()]\n",
    "        for i in range(size):\n",
    "            xyz, pot = self._update(\n",
    "                hamiltonian,\n",
    "                xyz_traj[-1], pot_traj[-1],\n",
    "                step=step, beta=beta)\n",
    "            xyz_traj.append(xyz)\n",
    "            pot_traj.append(pot)\n",
    "        hamiltonian.xyz[:] = xyz_traj[-1]\n",
    "        return np.asarray(xyz_traj, dtype=np.float64), np.asarray(pot_traj, dtype=np.float64)\n",
    "\n",
    "    def metropolis_sa(self, hamiltonian, size, step=0.1, beta=1.0):\n",
    "        r\"\"\"\n",
    "        Perform a Metropolis-based simulated annealing procedure.\n",
    "\n",
    "        Parameters\n",
    "        ----------\n",
    "        hamiltonian : object\n",
    "            Encapsulates the system's degrees of freedom\n",
    "            and interactions.\n",
    "        size : int\n",
    "            Number of Metropolis update steps.\n",
    "        step : float, optional, default=0.1\n",
    "            Maximal size of an update move in each coordinate.\n",
    "        beta : float, optional, default=1.0\n",
    "            Initial inverse temperature factor (1/kT).\n",
    "\n",
    "        Returns\n",
    "        -------\n",
    "        numpy.ndarray of float\n",
    "            Configuration trajectory.\n",
    "        numpy.ndarray of float\n",
    "            Total interaction and external potential trajectory.\n",
    "    \n",
    "        \"\"\"\n",
    "        beta_values = 1.0 / np.linspace(1.0E-15, 1.0 / beta, size)[::-1]\n",
    "        xyz_traj = [np.asarray(hamiltonian.xyz, dtype=np.float64)]\n",
    "        pot_traj = [hamiltonian.potential()]\n",
    "        for i in range(size):\n",
    "            xyz, pot = self._update(\n",
    "                hamiltonian,\n",
    "                xyz_traj[-1], pot_traj[-1],\n",
    "                step=step, beta=beta_values[i])\n",
    "            xyz_traj.append(xyz)\n",
    "            pot_traj.append(pot)\n",
    "        hamiltonian.xyz[:] = xyz_traj[-1]\n",
    "        return np.asarray(xyz_traj, dtype=np.float64), np.asarray(pot_traj, dtype=np.float64)\n",
    "\n",
    "hamiltonian = LennardJonesBox(np.random.rand(3, 3) * 2.0, box=2.0)\n",
    "sampler = Sampler()\n",
    "\n",
    "xyz_sa, pot_sa = sampler.metropolis_sa(hamiltonian, 1000, step=0.1, beta=10.0)\n",
    "xyz_eq, pot_eq = sampler.metropolis(hamiltonian, 1000, step=0.1, beta=10.0)\n",
    "xyz, pot = sampler.metropolis(hamiltonian, 100000, step=0.1, beta=10.0)\n",
    "\n",
    "fig, axes = plt.subplots(1, 2, figsize=(10, 4))\n",
    "for i in range(1, xyz.shape[1]):\n",
    "    for j in range(i):\n",
    "        hist, edges = np.histogram(np.linalg.norm(xyz[:, j, :] - xyz[:, i, :], axis=-1), bins=50)\n",
    "        rho = hist.astype(np.float64) / np.sum(hist)\n",
    "        axes[0].plot(edges[1:], rho)\n",
    "axes[0].set_xlabel(r\"$r$\", fontsize=15)\n",
    "axes[0].set_ylabel(r\"$\\rho(r)$\", fontsize=15)\n",
    "axes[0].semilogy()\n",
    "hist, edges = np.histogram(pot[:], bins=50)\n",
    "rho = hist.astype(np.float64) / np.sum(hist)\n",
    "axes[1].plot(edges[1:], rho)\n",
    "axes[1].set_xlabel(r\"$E$\", fontsize=15)\n",
    "axes[1].set_ylabel(r\"$\\rho(E)$\", fontsize=15)\n",
    "fig.tight_layout()"
   ]
  },
  {
   "cell_type": "code",
   "execution_count": 13,
   "metadata": {
    "collapsed": false
   },
   "outputs": [
    {
     "name": "stdout",
     "output_type": "stream",
     "text": [
      "10 loops, best of 3: 93.6 ms per loop\n"
     ]
    }
   ],
   "source": [
    "%%timeit\n",
    "\n",
    "sampler.metropolis(hamiltonian, 1000)"
   ]
  },
  {
   "cell_type": "code",
   "execution_count": 12,
   "metadata": {
    "collapsed": false
   },
   "outputs": [
    {
     "name": "stdout",
     "output_type": "stream",
     "text": [
      "10 loops, best of 3: 62.7 ms per loop\n"
     ]
    }
   ],
   "source": [
    "%%timeit\n",
    "\n",
    "metropolis(hamiltonian.xyz, 1000)"
   ]
  },
  {
   "cell_type": "code",
   "execution_count": null,
   "metadata": {
    "collapsed": true
   },
   "outputs": [],
   "source": []
  }
 ],
 "metadata": {
  "kernelspec": {
   "display_name": "Python 2",
   "language": "python",
   "name": "python2"
  },
  "language_info": {
   "codemirror_mode": {
    "name": "ipython",
    "version": 2
   },
   "file_extension": ".py",
   "mimetype": "text/x-python",
   "name": "python",
   "nbconvert_exporter": "python",
   "pygments_lexer": "ipython2",
   "version": "2.7.12"
  }
 },
 "nbformat": 4,
 "nbformat_minor": 0
}
