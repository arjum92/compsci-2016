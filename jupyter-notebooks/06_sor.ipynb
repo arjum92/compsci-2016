{
 "cells": [
  {
   "cell_type": "markdown",
   "metadata": {},
   "source": [
    "# Successive overrelaxation"
   ]
  },
  {
   "cell_type": "code",
   "execution_count": 1,
   "metadata": {
    "collapsed": true
   },
   "outputs": [],
   "source": [
    "%matplotlib inline\n",
    "import matplotlib as mpl\n",
    "import matplotlib.pyplot as plt\n",
    "import numpy as np"
   ]
  },
  {
   "cell_type": "markdown",
   "metadata": {},
   "source": [
    "## The 2D case"
   ]
  },
  {
   "cell_type": "code",
   "execution_count": 2,
   "metadata": {
    "collapsed": true
   },
   "outputs": [],
   "source": [
    "def sor_2d(rho, maxerr=1.0E-8, maxiter=100, w=None):\n",
    "    r\"\"\"Solve the 2D Poisson equation using the successive overrelaxation method.\n",
    "\n",
    "    Parameters\n",
    "    ----------\n",
    "    rho : numpy.ndarray(shape=(n, n))\n",
    "        The charge density grid.\n",
    "    maxerr : float, optional, default=1.eE-8\n",
    "        The convergence criterion.\n",
    "    maxiter : int, optional, default=1000\n",
    "        The number of iterations.\n",
    "    w : float, optional, default=None\n",
    "        Overwrite the automatically computed SOR parameter.\n",
    "\n",
    "    Returns\n",
    "    -------\n",
    "    numpy.ndarray(shape=rh,shape, dtype=rho.dtype)\n",
    "        The potential grid.\n",
    "\n",
    "    \"\"\"\n",
    "    if rho.ndim != 2 or rho.shape[0] != rho.shape[1]:\n",
    "        raise ValueError(\"rho must be of shape=(n, n)\")\n",
    "    phi = np.zeros(shape=rho.shape, dtype=rho.dtype)\n",
    "    nx, ny = rho.shape\n",
    "    if w is None:\n",
    "        w = 2.0 / (1.0 + np.pi / float(nx))\n",
    "    errors = []\n",
    "    for iteration in range(maxiter):\n",
    "        error = 0.0\n",
    "        for x in range(nx):\n",
    "            for y in range(ny):\n",
    "                if (x + y) % 2 == 0: continue\n",
    "                phi_xy = (\n",
    "                    phi[(x - 1) % nx, y] + \\\n",
    "                    phi[(x + 1) % nx, y] + \\\n",
    "                    phi[x, (y - 1) % ny] + \\\n",
    "                    phi[x, (y + 1) % ny] + \\\n",
    "                    rho[x, y]) / 4.0\n",
    "                phi[x, y] = (1.0 - w) * phi[x, y] + w * phi_xy\n",
    "                error += (phi[x, y] - phi_xy)**2\n",
    "        for x in range(nx):\n",
    "            for y in range(ny):\n",
    "                if (x + y) % 2 != 0: continue\n",
    "                phi_xy = (\n",
    "                    phi[(x - 1) % nx, y] + \\\n",
    "                    phi[(x + 1) % nx, y] + \\\n",
    "                    phi[x, (y - 1) % ny] + \\\n",
    "                    phi[x, (y + 1) % ny] + \\\n",
    "                    rho[x, y]) / 4.0\n",
    "                phi[x, y] = (1.0 - w) * phi[x, y] + w * phi_xy\n",
    "                error += (phi[x, y] - phi_xy)**2\n",
    "        errors.append(np.sqrt(error))\n",
    "        if error < maxerr:\n",
    "            print(\"convergence reached after %d steps! error: %.e\" % (iteration + 1, error))\n",
    "            return phi, errors\n",
    "    raise RuntimeError(\"not converged after %d steps! last error: %e\" % (maxiter, error))"
   ]
  },
  {
   "cell_type": "code",
   "execution_count": 3,
   "metadata": {
    "collapsed": false
   },
   "outputs": [
    {
     "name": "stdout",
     "output_type": "stream",
     "text": [
      "convergence reached after 71 steps! error: 9e-09\n"
     ]
    },
    {
     "data": {
      "image/png": "[encoded data removed]",
      "text/plain": [
       "<matplotlib.figure.Figure at 0x109e42790>"
      ]
     },
     "metadata": {},
     "output_type": "display_data"
    }
   ],
   "source": [
    "n = 100\n",
    "g = np.linspace(0.0, 10.0, n, endpoint=False)\n",
    "xx, yy = np.meshgrid(g, g, indexing=\"ij\")\n",
    "\n",
    "rho = np.zeros(shape=(n, n), dtype=np.float64)\n",
    "rho[25, 25] = 1.0\n",
    "rho[75, 75] = -1.0\n",
    "\n",
    "phi, error = sor_2d(rho * (g[1] - g[0])**2)\n",
    "\n",
    "fig, axes = plt.subplots(1, 2, figsize=(10, 5))\n",
    "axes[0].contourf(xx, yy, rho, cmap=mpl.cm.viridis)\n",
    "axes[1].contourf(xx, yy, phi, np.linspace(phi.min(), phi.max(), 100), cmap=mpl.cm.viridis)\n",
    "for ax in axes.flat:\n",
    "    ax.set_aspect(\"equal\")\n",
    "    ax.set_xlabel(r\"$x$\")\n",
    "    ax.set_ylabel(r\"$y$\")\n",
    "fig.tight_layout()"
   ]
  },
  {
   "cell_type": "markdown",
   "metadata": {},
   "source": [
    "## The 3D case"
   ]
  },
  {
   "cell_type": "code",
   "execution_count": 4,
   "metadata": {
    "collapsed": true
   },
   "outputs": [],
   "source": [
    "def sor_3d(rho, maxerr=1.0E-8, maxiter=100, w=None):\n",
    "    r\"\"\"Solve the 3D Poisson equation using the successive overrelaxation method.\n",
    "    \n",
    "    Parameters\n",
    "    ----------\n",
    "    rho : numpy.ndarray(shape=(n, n, n))\n",
    "        The charge density grid.\n",
    "    maxerr : float, optional, default=1.eE-8\n",
    "        The convergence criterion.\n",
    "    maxiter : int, optional, default=1000\n",
    "        The number of iterations.\n",
    "    w : float, optional, default=None\n",
    "        Overwrite the automatically computed SOR parameter.\n",
    "    \n",
    "    Returns\n",
    "    -------\n",
    "    numpy.ndarray(shape=rh,shape, dtype=rho.dtype)\n",
    "        The potential grid.\n",
    "    \n",
    "    \"\"\"\n",
    "    if rho.ndim != 3 or rho.shape[0] != rho.shape[1] != rho.shape[2]:\n",
    "        raise ValueError(\"rho must be of shape=(n, n, n)\")\n",
    "    phi = np.zeros(shape=rho.shape, dtype=rho.dtype)\n",
    "    nx, ny, nz = rho.shape\n",
    "    if w is None:\n",
    "        w = 2.0 / (1.0 + np.pi / float(nx))\n",
    "    errors = []\n",
    "    for iteration in range(maxiter):\n",
    "        error = 0.0\n",
    "        for x in range(nx):\n",
    "            for y in range(ny):\n",
    "                for z in range(nz):\n",
    "                    if (x + y + z) % 2 == 0: continue\n",
    "                    phi_xyz = (\n",
    "                        phi[(x - 1) % nx, y, z] + \\\n",
    "                        phi[(x + 1) % nx, y, z] + \\\n",
    "                        phi[x, (y - 1) % ny, z] + \\\n",
    "                        phi[x, (y + 1) % ny, z] + \\\n",
    "                        phi[x, y, (z - 1) % nz] + \\\n",
    "                        phi[x, y, (z + 1) % nz] + \\\n",
    "                        rho[x, y, z]) / 6.0\n",
    "                    phi[x, y, z] = (1.0 - w) * phi[x, y, z] + w * phi_xyz\n",
    "                    error += (phi[x, y, z] - phi_xyz)**2\n",
    "        for x in range(nx):\n",
    "            for y in range(ny):\n",
    "                for z in range(nz):\n",
    "                    if (x + y + z) % 2 != 0: continue\n",
    "                    phi_xyz = (\n",
    "                        phi[(x - 1) % nx, y, z] + \\\n",
    "                        phi[(x + 1) % nx, y, z] + \\\n",
    "                        phi[x, (y - 1) % ny, z] + \\\n",
    "                        phi[x, (y + 1) % ny, z] + \\\n",
    "                        phi[x, y, (z - 1) % nz] + \\\n",
    "                        phi[x, y, (z + 1) % nz] + \\\n",
    "                        rho[x, y, z]) / 6.0\n",
    "                    phi[x, y, z] = (1.0 - w) * phi[x, y, z] + w * phi_xyz\n",
    "                    error += (phi[x, y, z] - phi_xyz)**2\n",
    "        errors.append(np.sqrt(error))\n",
    "        if error < maxerr:\n",
    "            print(\"convergence reached after %d steps! error: %.e\" % (iteration + 1, error))\n",
    "            return phi, errors\n",
    "    raise RuntimeError(\"not converged after %d steps! last error: %e\" % (maxiter, error))"
   ]
  },
  {
   "cell_type": "code",
   "execution_count": 5,
   "metadata": {
    "collapsed": false
   },
   "outputs": [
    {
     "name": "stdout",
     "output_type": "stream",
     "text": [
      "convergence reached after 18 steps! error: 9e-09\n"
     ]
    },
    {
     "data": {
      "image/png": "[encoded data removed]",
      "text/plain": [
       "<matplotlib.figure.Figure at 0x10cba7850>"
      ]
     },
     "metadata": {},
     "output_type": "display_data"
    }
   ],
   "source": [
    "n = 100\n",
    "g = np.linspace(0.0, 10.0, n, endpoint=False)\n",
    "xx, yy = np.meshgrid(g, g, indexing=\"ij\")\n",
    "\n",
    "rho = np.zeros(shape=(n, n, n), dtype=np.float64)\n",
    "rho[25, 25, 50] = 1.0\n",
    "rho[75, 75, 50] = -1.0\n",
    "\n",
    "phi, error = sor_3d(rho * (g[1] - g[0])**3)\n",
    "\n",
    "fig, axes = plt.subplots(1, 2, figsize=(10, 5))\n",
    "axes[0].contourf(xx, yy, rho[:, :, 50], cmap=mpl.cm.viridis)\n",
    "axes[1].contourf(xx, yy, phi[:, :, 50], np.linspace(phi.min(), phi.max(), 100), cmap=mpl.cm.viridis)\n",
    "for ax in axes.flat:\n",
    "    ax.set_aspect(\"equal\")\n",
    "    ax.set_xlabel(r\"$x$\")\n",
    "    ax.set_ylabel(r\"$y$\")\n",
    "fig.tight_layout()"
   ]
  },
  {
   "cell_type": "code",
   "execution_count": null,
   "metadata": {
    "collapsed": true
   },
   "outputs": [],
   "source": []
  },
  {
   "cell_type": "code",
   "execution_count": null,
   "metadata": {
    "collapsed": true
   },
   "outputs": [],
   "source": []
  }
 ],
 "metadata": {
  "kernelspec": {
   "display_name": "Python 2",
   "language": "python",
   "name": "python2"
  },
  "language_info": {
   "codemirror_mode": {
    "name": "ipython",
    "version": 2
   },
   "file_extension": ".py",
   "mimetype": "text/x-python",
   "name": "python",
   "nbconvert_exporter": "python",
   "pygments_lexer": "ipython2",
   "version": "2.7.12"
  }
 },
 "nbformat": 4,
 "nbformat_minor": 0
}
