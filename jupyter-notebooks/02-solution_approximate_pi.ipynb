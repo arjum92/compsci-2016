{
 "cells": [
  {
   "cell_type": "markdown",
   "metadata": {
    "collapsed": true
   },
   "source": [
    "# Approximate $\\pi$ via Metropolis MC\n",
    "\n",
    "This file contains the implementation of a Monte Carlo-Simulation of Pi, using a Metropolis Markov Chain algorithm. For automated testing I use ipython_nose which can be found [in this github-repo](https://github.com/taavi/ipython_nose). To use cell magic you need to install [this pull request](https://github.com/taavi/ipython_nose/pull/11). If you execute a cell containing %nose then all functions with a name starting with test will be executed. If you use %%nose only tests in the same cell are being executed.\n"
   ]
  },
  {
   "cell_type": "code",
   "execution_count": 1,
   "metadata": {
    "collapsed": false
   },
   "outputs": [],
   "source": [
    "import numpy as np\n",
    "import numpy.testing as nptest"
   ]
  },
  {
   "cell_type": "markdown",
   "metadata": {},
   "source": [
    "## Create a Markov-Chain:\n"
   ]
  },
  {
   "cell_type": "code",
   "execution_count": 2,
   "metadata": {
    "collapsed": false
   },
   "outputs": [],
   "source": [
    "def create_trial_chain(N,max_step_size):\n",
    "    if(type(N) == int and N > 0):#Checking if first argument is valid\n",
    "        if((type(max_step_size) == float or type(max_step_size)== int) # Checking if second argument is valid\n",
    "           and max_step_size>=0 and max_step_size <=1):\n",
    "            # initialize with -1 to make shure that all values will be changed\n",
    "            markov_chain = np.ones((N,2))*(-1) \n",
    "            #set a random start_point\n",
    "            markov_chain[0,:]=np.random.rand(2)\n",
    "\n",
    "            for i in range(1,N):\n",
    "                previous = markov_chain[i-1,:]\n",
    "                delta = (np.random.rand(2)-0.5)*max_step_size*2 \n",
    "                # if max_step_size is 1 this is a random number from [-1,1]\n",
    "                proposal = previous+delta\n",
    "                if ((proposal <= 1)*(proposal >= 0)).all():\n",
    "                    markov_chain[i,:]=proposal\n",
    "                else:\n",
    "                    markov_chain[i,:]=previous\n",
    "                    \n",
    "            return markov_chain\n",
    "        else:\n",
    "            raise TypeError(\"max_step_size is not a float between 0 and 1\")\n",
    "    else:\n",
    "        raise TypeError(\"N is not a positive integer\")"
   ]
  },
  {
   "cell_type": "code",
   "execution_count": 3,
   "metadata": {
    "collapsed": false
   },
   "outputs": [],
   "source": [
    "def approx_pi_markov(N,max_step_size):\n",
    "    trial_chain = create_trial_chain(N,max_step_size)\n",
    "    return 4/N *np.sum(np.power(trial_chain[:,0],2) + np.power(trial_chain[:,1],2) <= 1)"
   ]
  },
  {
   "cell_type": "markdown",
   "metadata": {},
   "source": [
    "## Tests\n"
   ]
  },
  {
   "cell_type": "code",
   "execution_count": 4,
   "metadata": {
    "collapsed": false
   },
   "outputs": [],
   "source": [
    "%load_ext ipython_nose"
   ]
  },
  {
   "cell_type": "code",
   "execution_count": 6,
   "metadata": {
    "collapsed": false
   },
   "outputs": [
    {
     "data": {
      "text/html": [
       "<div id=\"ipython_nose_92a51aa7a1964b72ba39ddb6f5dee1ea\"></div>"
      ]
     },
     "metadata": {},
     "output_type": "display_data"
    },
    {
     "data": {
      "application/javascript": [
       "document.ipython_nose_92a51aa7a1964b72ba39ddb6f5dee1ea = $(\"#ipython_nose_92a51aa7a1964b72ba39ddb6f5dee1ea\");"
      ]
     },
     "metadata": {},
     "output_type": "display_data"
    },
    {
     "data": {
      "application/javascript": [
       "document.ipython_nose_92a51aa7a1964b72ba39ddb6f5dee1ea.append($(\"<span>.</span>\"));"
      ]
     },
     "metadata": {},
     "output_type": "display_data"
    },
    {
     "data": {
      "application/javascript": [
       "document.ipython_nose_92a51aa7a1964b72ba39ddb6f5dee1ea.append($(\"<span>.</span>\"));"
      ]
     },
     "metadata": {},
     "output_type": "display_data"
    },
    {
     "data": {
      "application/javascript": [
       "document.ipython_nose_92a51aa7a1964b72ba39ddb6f5dee1ea.append($(\"<span>.</span>\"));"
      ]
     },
     "metadata": {},
     "output_type": "display_data"
    },
    {
     "data": {
      "application/javascript": [
       "document.ipython_nose_92a51aa7a1964b72ba39ddb6f5dee1ea.append($(\"<span>.</span>\"));"
      ]
     },
     "metadata": {},
     "output_type": "display_data"
    },
    {
     "data": {
      "application/javascript": [
       "document.ipython_nose_92a51aa7a1964b72ba39ddb6f5dee1ea.append($(\"<span>.</span>\"));"
      ]
     },
     "metadata": {},
     "output_type": "display_data"
    },
    {
     "data": {
      "application/javascript": [
       "document.ipython_nose_92a51aa7a1964b72ba39ddb6f5dee1ea.append($(\"<span>.</span>\"));"
      ]
     },
     "metadata": {},
     "output_type": "display_data"
    },
    {
     "data": {
      "application/javascript": [
       "document.ipython_nose_92a51aa7a1964b72ba39ddb6f5dee1ea.append($(\"<span>.</span>\"));"
      ]
     },
     "metadata": {},
     "output_type": "display_data"
    },
    {
     "data": {
      "application/javascript": [
       "document.ipython_nose_92a51aa7a1964b72ba39ddb6f5dee1ea.append($(\"<span>.</span>\"));"
      ]
     },
     "metadata": {},
     "output_type": "display_data"
    },
    {
     "data": {
      "application/javascript": [
       "document.ipython_nose_92a51aa7a1964b72ba39ddb6f5dee1ea.append($(\"<span>.</span>\"));"
      ]
     },
     "metadata": {},
     "output_type": "display_data"
    },
    {
     "data": {
      "application/javascript": [
       "document.ipython_nose_92a51aa7a1964b72ba39ddb6f5dee1ea.append($(\"<span>.</span>\"));"
      ]
     },
     "metadata": {},
     "output_type": "display_data"
    },
    {
     "data": {
      "application/javascript": [
       "delete document.ipython_nose_92a51aa7a1964b72ba39ddb6f5dee1ea;"
      ]
     },
     "metadata": {},
     "output_type": "display_data"
    },
    {
     "data": {
      "text/html": [
       "    <style type=\"text/css\">\n",
       "        span.nosefailedfunc {\n",
       "            font-family: monospace;\n",
       "            font-weight: bold;\n",
       "        }\n",
       "        div.noseresults {\n",
       "            width: 100%;\n",
       "        }\n",
       "        div.nosebar {\n",
       "            float: left;\n",
       "            padding: 1ex 0px 1ex 0px;\n",
       "        }\n",
       "        div.nosebar.fail {\n",
       "            background: #ff3019; /* Old browsers */\n",
       "            /* FF3.6+ */\n",
       "            background: -moz-linear-gradient(top, #ff3019 0%, #cf0404 100%);\n",
       "            /* Chrome,Safari4+ */\n",
       "            background: -webkit-gradient(linear, left top, left bottom,\n",
       "                                         color-stop(0%,#ff3019),\n",
       "                                         color-stop(100%,#cf0404));\n",
       "            /* Chrome10+,Safari5.1+ */\n",
       "            background: -webkit-linear-gradient(top, #ff3019 0%,#cf0404 100%);\n",
       "            /* Opera 11.10+ */\n",
       "            background: -o-linear-gradient(top, #ff3019 0%,#cf0404 100%);\n",
       "            /* IE10+ */\n",
       "            background: -ms-linear-gradient(top, #ff3019 0%,#cf0404 100%);\n",
       "            /* W3C */\n",
       "            background: linear-gradient(to bottom, #ff3019 0%,#cf0404 100%);\n",
       "        }\n",
       "        div.nosebar.pass {\n",
       "            background: #52b152;\n",
       "            background: -moz-linear-gradient(top, #52b152 1%, #008a00 100%);\n",
       "            background: -webkit-gradient(linear, left top, left bottom,\n",
       "                                         color-stop(1%,#52b152),\n",
       "                                         color-stop(100%,#008a00));\n",
       "            background: -webkit-linear-gradient(top, #52b152 1%,#008a00 100%);\n",
       "            background: -o-linear-gradient(top, #52b152 1%,#008a00 100%);\n",
       "            background: -ms-linear-gradient(top, #52b152 1%,#008a00 100%);\n",
       "            background: linear-gradient(to bottom, #52b152 1%,#008a00 100%);\n",
       "        }\n",
       "        div.nosebar.skip {\n",
       "            background: #f1e767;\n",
       "            background: -moz-linear-gradient(top, #f1e767 0%, #feb645 100%);\n",
       "            background: -webkit-gradient(linear, left top, left bottom,\n",
       "                                         color-stop(0%,#f1e767),\n",
       "                                         color-stop(100%,#feb645));\n",
       "            background: -webkit-linear-gradient(top, #f1e767 0%,#feb645 100%);\n",
       "            background: -o-linear-gradient(top, #f1e767 0%,#feb645 100%);\n",
       "            background: -ms-linear-gradient(top, #f1e767 0%,#feb645 100%);\n",
       "            background: linear-gradient(to bottom, #f1e767 0%,#feb645 100%);\n",
       "        }\n",
       "        div.nosebar.leftmost {\n",
       "            border-radius: 4px 0 0 4px;\n",
       "        }\n",
       "        div.nosebar.rightmost {\n",
       "            border-radius: 0 4px 4px 0;\n",
       "        }\n",
       "        div.nosefailbanner {\n",
       "            border-radius: 4px 0 0 4px;\n",
       "            border-left: 10px solid #cf0404;\n",
       "            padding: 0.5ex 0em 0.5ex 1em;\n",
       "            margin-top: 1ex;\n",
       "            margin-bottom: 0px;\n",
       "        }\n",
       "        div.nosefailbanner.expanded {\n",
       "            border-radius: 4px 4px 0 0;\n",
       "            border-top: 10px solid #cf0404;\n",
       "        }\n",
       "        pre.nosetraceback {\n",
       "            border-radius: 0 4px 4px 4px;\n",
       "            border-left: 10px solid #cf0404;\n",
       "            padding: 1em;\n",
       "            margin-left: 0px;\n",
       "            margin-top: 0px;\n",
       "        }\n",
       "    </style>\n",
       "    \n",
       "    <script>\n",
       "        setTimeout(function () {\n",
       "            $('.nosefailtoggle').bind(\n",
       "                'click',\n",
       "                function () {\n",
       "                    $(\n",
       "                        $(this)\n",
       "                            .parent().toggleClass('expanded')\n",
       "                            .parent()\n",
       "                            .children()\n",
       "                            .filter('.nosetraceback')\n",
       "                    ).toggle();\n",
       "                }\n",
       "            );},\n",
       "            0);\n",
       "    </script>\n",
       "    \n",
       "    <div class=\"noseresults\">\n",
       "      <div class=\"nosebar fail leftmost\" style=\"width: 0%\">\n",
       "          &nbsp;\n",
       "      </div>\n",
       "      <div class=\"nosebar skip\" style=\"width: 0%\">\n",
       "          &nbsp;\n",
       "      </div>\n",
       "      <div class=\"nosebar pass rightmost\" style=\"width: 100%\">\n",
       "          &nbsp;\n",
       "      </div>\n",
       "      10/10 tests passed\n",
       "    </div>\n",
       "    "
      ],
      "text/plain": [
       "10/10 tests passed\n"
      ]
     },
     "execution_count": 6,
     "metadata": {},
     "output_type": "execute_result"
    }
   ],
   "source": [
    "%%nose\n",
    "def test_create_trial_chain_returns_nx2_array_with_positive_input():\n",
    "    nptest.assert_equal(np.shape(create_trial_chain(3,1)),(3,2))\n",
    "    \n",
    "def test_do_not_create_trial_chain_with_0_input():\n",
    "    with nptest.assert_raises(TypeError):\n",
    "        create_trial_chain(0,1)\n",
    "    \n",
    "def test_do_not_create_trial_chain_with_negative_input():\n",
    "    with nptest.assert_raises(TypeError):\n",
    "        create_trial_chain(-3,1)\n",
    "    \n",
    "def test_do_not_create_trial_chain_with_float():\n",
    "    with nptest.assert_raises(TypeError):\n",
    "        create_trial_chain(3.3,1)\n",
    "        \n",
    "def test_do_not_create_trial_chain_with_string_as_second_arg():\n",
    "    with nptest.assert_raises(TypeError):\n",
    "        create_trial_chain(3,'foo')\n",
    "        \n",
    "def test_do_not_create_trial_chain_with_second_arg_larger_one():\n",
    "    with nptest.assert_raises(TypeError):\n",
    "        create_trial_chain(3,1.4)\n",
    "\n",
    "def test_do_not_create_trial_chain_with_second_arg_smaller_0():\n",
    "    with nptest.assert_raises(TypeError):\n",
    "        create_trial_chain(3,-1)\n",
    "\n",
    "def test_create_trial_chain_returns_numbers_between_0_and_1():\n",
    "    for i in range(50):\n",
    "        test_array = create_trial_chain(1000,0.5)\n",
    "        assert ((test_array >=0) * (test_array <= 1)).all()\n",
    "\n",
    "def test_do_not_app_pi_with_second_arg_smaller_0():\n",
    "    with nptest.assert_raises(TypeError):\n",
    "        approx_pi_markov(10000,-1)\n",
    "        \n",
    "\n",
    "def test_approx_pi_markov_is_close_to_py():\n",
    "    for i in range(20):\n",
    "        assert abs(approx_pi_markov(10000,0.5)-np.pi) <= 0.1"
   ]
  }
 ],
 "metadata": {
  "kernelspec": {
   "display_name": "Python 3",
   "language": "python",
   "name": "python3"
  },
  "language_info": {
   "codemirror_mode": {
    "name": "ipython",
    "version": 3
   },
   "file_extension": ".py",
   "mimetype": "text/x-python",
   "name": "python",
   "nbconvert_exporter": "python",
   "pygments_lexer": "ipython3",
   "version": "3.5.2"
  }
 },
 "nbformat": 4,
 "nbformat_minor": 0
}
